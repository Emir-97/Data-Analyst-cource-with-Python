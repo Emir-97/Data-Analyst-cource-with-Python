{
 "cells": [
  {
   "cell_type": "markdown",
   "metadata": {},
   "source": [
    "<font color=Green>\n",
    "    \n",
    "# **3.11 Agrupar datos**\n",
    "\n",
    "</font>"
   ]
  },
  {
   "cell_type": "code",
   "execution_count": 2,
   "metadata": {},
   "outputs": [],
   "source": [
    "import numpy as np\n",
    "import pandas as pd"
   ]
  },
  {
   "cell_type": "code",
   "execution_count": 3,
   "metadata": {},
   "outputs": [
    {
     "data": {
      "text/html": [
       "<div>\n",
       "<style scoped>\n",
       "    .dataframe tbody tr th:only-of-type {\n",
       "        vertical-align: middle;\n",
       "    }\n",
       "\n",
       "    .dataframe tbody tr th {\n",
       "        vertical-align: top;\n",
       "    }\n",
       "\n",
       "    .dataframe thead th {\n",
       "        text-align: right;\n",
       "    }\n",
       "</style>\n",
       "<table border=\"1\" class=\"dataframe\">\n",
       "  <thead>\n",
       "    <tr style=\"text-align: right;\">\n",
       "      <th></th>\n",
       "      <th>fecha</th>\n",
       "      <th>duracion</th>\n",
       "      <th>item</th>\n",
       "      <th>mes</th>\n",
       "      <th>red</th>\n",
       "      <th>tipo_red</th>\n",
       "    </tr>\n",
       "    <tr>\n",
       "      <th>indice</th>\n",
       "      <th></th>\n",
       "      <th></th>\n",
       "      <th></th>\n",
       "      <th></th>\n",
       "      <th></th>\n",
       "      <th></th>\n",
       "    </tr>\n",
       "  </thead>\n",
       "  <tbody>\n",
       "    <tr>\n",
       "      <th>0</th>\n",
       "      <td>2014-10-15 06:58:00</td>\n",
       "      <td>34.429</td>\n",
       "      <td>data</td>\n",
       "      <td>2014-11</td>\n",
       "      <td>data</td>\n",
       "      <td>data</td>\n",
       "    </tr>\n",
       "    <tr>\n",
       "      <th>1</th>\n",
       "      <td>2014-10-15 06:58:00</td>\n",
       "      <td>13.000</td>\n",
       "      <td>call</td>\n",
       "      <td>2014-11</td>\n",
       "      <td>Vodafone</td>\n",
       "      <td>mobile</td>\n",
       "    </tr>\n",
       "    <tr>\n",
       "      <th>2</th>\n",
       "      <td>2014-10-15 14:46:00</td>\n",
       "      <td>23.000</td>\n",
       "      <td>call</td>\n",
       "      <td>2014-11</td>\n",
       "      <td>Meteor</td>\n",
       "      <td>mobile</td>\n",
       "    </tr>\n",
       "    <tr>\n",
       "      <th>3</th>\n",
       "      <td>2014-10-15 14:48:00</td>\n",
       "      <td>4.000</td>\n",
       "      <td>call</td>\n",
       "      <td>2014-11</td>\n",
       "      <td>Tesco</td>\n",
       "      <td>mobile</td>\n",
       "    </tr>\n",
       "    <tr>\n",
       "      <th>4</th>\n",
       "      <td>2014-10-15 17:27:00</td>\n",
       "      <td>4.000</td>\n",
       "      <td>call</td>\n",
       "      <td>2014-11</td>\n",
       "      <td>Tesco</td>\n",
       "      <td>mobile</td>\n",
       "    </tr>\n",
       "  </tbody>\n",
       "</table>\n",
       "</div>"
      ],
      "text/plain": [
       "                     fecha  duracion  item      mes       red tipo_red\n",
       "indice                                                                \n",
       "0      2014-10-15 06:58:00    34.429  data  2014-11      data     data\n",
       "1      2014-10-15 06:58:00    13.000  call  2014-11  Vodafone   mobile\n",
       "2      2014-10-15 14:46:00    23.000  call  2014-11    Meteor   mobile\n",
       "3      2014-10-15 14:48:00     4.000  call  2014-11     Tesco   mobile\n",
       "4      2014-10-15 17:27:00     4.000  call  2014-11     Tesco   mobile"
      ]
     },
     "execution_count": 3,
     "metadata": {},
     "output_type": "execute_result"
    }
   ],
   "source": [
    "#En este método se encuentra el argumento header= que establece que fila se utilizará como nombre de las columnas\n",
    "# en index_col= se fija que columna sería el índice, con names= el nombre de las columnas y parse_dates se fija el tipo de una\n",
    "# columna como fecha\n",
    "data = pd.read_csv(r'C:\\Users\\Emir\\Desktop\\data_celular.csv',\n",
    "                   header=0,\n",
    "                   index_col=0,\n",
    "                   names=['indice', 'fecha','duracion','item','mes','red','tipo_red'],\n",
    "                   parse_dates=['fecha'])\n",
    "data.head()"
   ]
  },
  {
   "cell_type": "markdown",
   "metadata": {},
   "source": [
    "### Podemos obtener información básica seleccionando columnas y aplicando alguna de las operaciones que ya conocemos."
   ]
  },
  {
   "cell_type": "code",
   "execution_count": 5,
   "metadata": {},
   "outputs": [
    {
     "name": "stdout",
     "output_type": "stream",
     "text": [
      "Cuántas filas tiene el DataFrame: \n",
      "830\n"
     ]
    }
   ],
   "source": [
    "print('Cuántas filas tiene el DataFrame: ')\n",
    "#El método count() es para  contar en este caso filas\n",
    "print(data['item'].count())"
   ]
  },
  {
   "cell_type": "code",
   "execution_count": 7,
   "metadata": {},
   "outputs": [
    {
     "name": "stdout",
     "output_type": "stream",
     "text": [
      "El tiempo total (en segundos) registrado en llamadas es:\n",
      "92321.0\n"
     ]
    }
   ],
   "source": [
    "print('El tiempo total (en segundos) registrado en llamadas es:')\n",
    "\n",
    "#Primero realizamos una indexación de las ods columnas y en la item solo aquellas que tengan como valor 'call' y luego se suman\n",
    "# todo el tiempo de las llamadas realizadas\n",
    "print(data['duracion'][data['item'] == 'call'].sum())"
   ]
  },
  {
   "cell_type": "code",
   "execution_count": 8,
   "metadata": {},
   "outputs": [
    {
     "name": "stdout",
     "output_type": "stream",
     "text": [
      "Con cuántas redes telefónicas se contactó en el período de 2014/11 al 2015/03: \n",
      "9\n"
     ]
    }
   ],
   "source": [
    "print('Con cuántas redes telefónicas se contactó en el período de 2014/11 al 2015/03: ')\n",
    "#El método nunique() nos cuenta solo los valores únicos y no los repetidos\n",
    "print(data['red'].nunique())"
   ]
  },
  {
   "cell_type": "markdown",
   "metadata": {},
   "source": [
    "## <font color=#003d5c> _.groupby()_ </font>\n",
    "### Este método nos permite agrupar nuestros datos para obtener información segregada."
   ]
  },
  {
   "cell_type": "code",
   "execution_count": 10,
   "metadata": {},
   "outputs": [
    {
     "data": {
      "text/plain": [
       "<pandas.core.groupby.generic.DataFrameGroupBy object at 0x0000028C7058E190>"
      ]
     },
     "execution_count": 10,
     "metadata": {},
     "output_type": "execute_result"
    }
   ],
   "source": [
    "#Nos indica el tipo genérico de la columna 'mes'\n",
    "data.groupby('mes')"
   ]
  },
  {
   "cell_type": "code",
   "execution_count": 12,
   "metadata": {},
   "outputs": [
    {
     "data": {
      "text/plain": [
       "dict_keys(['2014-11', '2014-12', '2015-01', '2015-02', '2015-03'])"
      ]
     },
     "execution_count": 12,
     "metadata": {},
     "output_type": "execute_result"
    }
   ],
   "source": [
    "#Nos indica los valores que se encuentran dentro del grupo genérico de la columna 'mes'\n",
    "data.groupby('mes').groups.values()\n",
    "\n",
    "#Nos indica las llaves que contienen los valores que forman parte del grupo genérico de la columna 'mes'\n",
    "data.groupby('mes').groups.keys()"
   ]
  },
  {
   "cell_type": "code",
   "execution_count": 13,
   "metadata": {},
   "outputs": [
    {
     "data": {
      "text/html": [
       "<div>\n",
       "<style scoped>\n",
       "    .dataframe tbody tr th:only-of-type {\n",
       "        vertical-align: middle;\n",
       "    }\n",
       "\n",
       "    .dataframe tbody tr th {\n",
       "        vertical-align: top;\n",
       "    }\n",
       "\n",
       "    .dataframe thead th {\n",
       "        text-align: right;\n",
       "    }\n",
       "</style>\n",
       "<table border=\"1\" class=\"dataframe\">\n",
       "  <thead>\n",
       "    <tr style=\"text-align: right;\">\n",
       "      <th></th>\n",
       "      <th>duracion</th>\n",
       "    </tr>\n",
       "    <tr>\n",
       "      <th>mes</th>\n",
       "      <th></th>\n",
       "    </tr>\n",
       "  </thead>\n",
       "  <tbody>\n",
       "    <tr>\n",
       "      <th>2014-11</th>\n",
       "      <td>26639.441</td>\n",
       "    </tr>\n",
       "    <tr>\n",
       "      <th>2014-12</th>\n",
       "      <td>14641.870</td>\n",
       "    </tr>\n",
       "    <tr>\n",
       "      <th>2015-01</th>\n",
       "      <td>18223.299</td>\n",
       "    </tr>\n",
       "    <tr>\n",
       "      <th>2015-02</th>\n",
       "      <td>15522.299</td>\n",
       "    </tr>\n",
       "    <tr>\n",
       "      <th>2015-03</th>\n",
       "      <td>22750.441</td>\n",
       "    </tr>\n",
       "  </tbody>\n",
       "</table>\n",
       "</div>"
      ],
      "text/plain": [
       "          duracion\n",
       "mes               \n",
       "2014-11  26639.441\n",
       "2014-12  14641.870\n",
       "2015-01  18223.299\n",
       "2015-02  15522.299\n",
       "2015-03  22750.441"
      ]
     },
     "execution_count": 13,
     "metadata": {},
     "output_type": "execute_result"
    }
   ],
   "source": [
    "#Con el método sum() agregado a groupby() nos produce la suma total de todos los valores \n",
    "#que conforman cada una de las llaves de la columna genérica 'mes'\n",
    "data.groupby('mes').sum()"
   ]
  },
  {
   "cell_type": "code",
   "execution_count": 14,
   "metadata": {},
   "outputs": [
    {
     "name": "stdout",
     "output_type": "stream",
     "text": [
      "En el siguiente cuadro vemos la cantidad de entradas por mes \n",
      " segregadas en llamadas, sms y datos: \n",
      " \n",
      "\n",
      "mes      item\n",
      "2014-11  call    107\n",
      "         data     29\n",
      "         sms      94\n",
      "2014-12  call     79\n",
      "         data     30\n",
      "         sms      48\n",
      "2015-01  call     88\n",
      "         data     31\n",
      "         sms      86\n",
      "2015-02  call     67\n",
      "         data     31\n",
      "         sms      39\n",
      "2015-03  call     47\n",
      "         data     29\n",
      "         sms      25\n",
      "Name: duracion, dtype: int64\n"
     ]
    }
   ],
   "source": [
    "print('En el siguiente cuadro vemos la cantidad de entradas por mes \\n segregadas en llamadas, sms y datos: \\n \\n')\n",
    "\n",
    "#En este caso se agrupa la información por las columnas 'mes' e 'item' y cuenta la cantidad de datos en la columna 'duración'\n",
    "print(data.groupby(['mes','item'])[\"duracion\"].count())"
   ]
  },
  {
   "cell_type": "code",
   "execution_count": 15,
   "metadata": {},
   "outputs": [
    {
     "name": "stdout",
     "output_type": "stream",
     "text": [
      "La duración total de las llamadas realizadas a cada una de las operadoras es: \n"
     ]
    },
    {
     "data": {
      "text/plain": [
       "red\n",
       "Meteor        7200.0\n",
       "Tesco        13828.0\n",
       "Three        36464.0\n",
       "Vodafone     14621.0\n",
       "landline     18433.0\n",
       "voicemail     1775.0\n",
       "Name: duracion, dtype: float64"
      ]
     },
     "execution_count": 15,
     "metadata": {},
     "output_type": "execute_result"
    }
   ],
   "source": [
    "print('La duración total de las llamadas realizadas a cada una de las operadoras es: ')\n",
    "\n",
    "#Ahora con el siguiente ejemplo solo se eligen las llamadas de la columna item, luego se agrupan los datos por red y se cuenta\n",
    "# la duración de las llamadas en cada uno de los grupos\n",
    "data[data['item'] == 'call'].groupby('red')['duracion'].sum()"
   ]
  },
  {
   "cell_type": "code",
   "execution_count": 16,
   "metadata": {},
   "outputs": [
    {
     "name": "stdout",
     "output_type": "stream",
     "text": [
      "¿Cuántas llamadas, sms y datos son enviados a cada operadora por mes? : \n"
     ]
    },
    {
     "data": {
      "text/plain": [
       "mes      tipo_red \n",
       "2014-11  data          29\n",
       "         landline       5\n",
       "         mobile       189\n",
       "         special        1\n",
       "         voicemail      6\n",
       "2014-12  data          30\n",
       "         landline       7\n",
       "         mobile       108\n",
       "         voicemail      8\n",
       "         world          4\n",
       "2015-01  data          31\n",
       "         landline      11\n",
       "         mobile       160\n",
       "         voicemail      3\n",
       "2015-02  data          31\n",
       "         landline       8\n",
       "         mobile        90\n",
       "         special        2\n",
       "         voicemail      6\n",
       "2015-03  data          29\n",
       "         landline      11\n",
       "         mobile        54\n",
       "         voicemail      4\n",
       "         world          3\n",
       "Name: fecha, dtype: int64"
      ]
     },
     "execution_count": 16,
     "metadata": {},
     "output_type": "execute_result"
    }
   ],
   "source": [
    "print('¿Cuántas llamadas, sms y datos son enviados a cada operadora por mes? : ')\n",
    "\n",
    "#Aca se agrupa la información por 'mes' y por 'tipo_red', luego se cuentan las fechas por cada dato\n",
    "data.groupby(['mes', 'tipo_red'])['fecha'].count()"
   ]
  },
  {
   "cell_type": "code",
   "execution_count": null,
   "metadata": {},
   "outputs": [],
   "source": []
  }
 ],
 "metadata": {
  "kernelspec": {
   "display_name": "Python 3",
   "language": "python",
   "name": "python3"
  },
  "language_info": {
   "codemirror_mode": {
    "name": "ipython",
    "version": 3
   },
   "file_extension": ".py",
   "mimetype": "text/x-python",
   "name": "python",
   "nbconvert_exporter": "python",
   "pygments_lexer": "ipython3",
   "version": "3.8.5"
  }
 },
 "nbformat": 4,
 "nbformat_minor": 4
}
